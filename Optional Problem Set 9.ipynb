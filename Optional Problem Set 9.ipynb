{
 "cells": [
  {
   "cell_type": "markdown",
   "metadata": {},
   "source": [
    "# Optional Problem Set 9\n",
    "\n",
    "#### Question 1"
   ]
  },
  {
   "cell_type": "code",
   "execution_count": 1,
   "metadata": {},
   "outputs": [],
   "source": [
    "Qn1 <- function(intercept, slope, R2, n) {\n",
    "    x <- rnorm(n, 0, 1)\n",
    "    ssr <- sum((x-mean(x))^2) # sum of squared residuals\n",
    "    e <- rnorm(n)\n",
    "    e <- resid(lm(e ~ x))\n",
    "    e <- e*sqrt((1-R2)/R2*ssr/(sum(e^2)))\n",
    "    Y <- intercept + x + e\n",
    "    X <- 1/slope * x\n",
    "\n",
    "    df <- data.frame(Y,X)\n",
    "    write.csv(df,\"./Question1.csv\", row.names = FALSE)\n",
    "\n",
    "    summary(lm(Y ~ X))\n",
    "}"
   ]
  },
  {
   "cell_type": "markdown",
   "metadata": {},
   "source": [
    "#### Test case 1\n",
    "\n",
    "A sample test case with intercept = 25, slope = 15, Multiple R2 = 0.7 and n = 100"
   ]
  },
  {
   "cell_type": "code",
   "execution_count": 2,
   "metadata": {},
   "outputs": [
    {
     "data": {
      "text/plain": [
       "\n",
       "Call:\n",
       "lm(formula = Y ~ X)\n",
       "\n",
       "Residuals:\n",
       "     Min       1Q   Median       3Q      Max \n",
       "-1.32682 -0.40218  0.02579  0.35447  1.61924 \n",
       "\n",
       "Coefficients:\n",
       "            Estimate Std. Error t value Pr(>|t|)    \n",
       "(Intercept) 25.00000    0.06163  405.65   <2e-16 ***\n",
       "X           15.00000    0.99195   15.12   <2e-16 ***\n",
       "---\n",
       "Signif. codes:  0 '***' 0.001 '**' 0.01 '*' 0.05 '.' 0.1 ' ' 1\n",
       "\n",
       "Residual standard error: 0.6155 on 98 degrees of freedom\n",
       "Multiple R-squared:    0.7,\tAdjusted R-squared:  0.6969 \n",
       "F-statistic: 228.7 on 1 and 98 DF,  p-value: < 2.2e-16\n"
      ]
     },
     "metadata": {},
     "output_type": "display_data"
    }
   ],
   "source": [
    "# Test case 1\n",
    "Qn1(25,15,0.7,100)"
   ]
  },
  {
   "cell_type": "code",
   "execution_count": null,
   "metadata": {},
   "outputs": [],
   "source": []
  }
 ],
 "metadata": {
  "kernelspec": {
   "display_name": "R",
   "language": "R",
   "name": "ir"
  },
  "language_info": {
   "codemirror_mode": "r",
   "file_extension": ".r",
   "mimetype": "text/x-r-source",
   "name": "R",
   "pygments_lexer": "r",
   "version": "4.0.2"
  }
 },
 "nbformat": 4,
 "nbformat_minor": 4
}
