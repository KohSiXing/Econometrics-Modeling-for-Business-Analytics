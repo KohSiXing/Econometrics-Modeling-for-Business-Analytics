{
 "cells": [
  {
   "cell_type": "markdown",
   "metadata": {},
   "source": [
    "# Obtaining p-value from correspoinding T or Z scores"
   ]
  },
  {
   "cell_type": "markdown",
   "metadata": {},
   "source": [
    "## Z - test\n",
    "\n",
    "### Finding critical value\n",
    "\n",
    "* Left-Tailed Test: $z_{\\alpha}$ = qnorm($\\alpha$)\n",
    "* Right-Tailed Test: $z_{\\alpha}$ = qnorm(1 - $\\alpha$)\n",
    "* Two-Tailed Test: $z_{\\frac{\\alpha}{2}}$ = qnorm(1 - $\\frac{\\alpha}{2}$)\n",
    "\n",
    "### Finding P-value\n",
    "\n",
    "* Left-Tailed Test: p-value = pnorm(z, lower.tail=TRUE)\n",
    "* Right-Tailed Test: p-value = pnorm(z, lower.tail=FALSE)\n",
    "* Two-Tailed Test: p-value = 2 X pnorm(z, lower.tail=FALSE)"
   ]
  },
  {
   "cell_type": "markdown",
   "metadata": {},
   "source": [
    "## T - test\n",
    "\n",
    "### Finding critical value\n",
    "\n",
    "* Left-Tailed Test: $t_{\\alpha}$ = qt($\\alpha$)\n",
    "* Right-Tailed Test: $t_{\\alpha}$ = qt(1 - $\\alpha$)\n",
    "* Two-Tailed Test: $t_{\\frac{\\alpha}{2}}$ = qt(1 - $\\frac{\\alpha}{2}$)\n",
    "\n",
    "### Finding P-value\n",
    "\n",
    "* Left-Tailed Test: p-value = pt(t, df = n - 2, lower.tail=TRUE)\n",
    "* Right-Tailed Test: p-value = pt(t, df = n - 2, lower.tail=FALSE)\n",
    "* Two-Tailed Test: p-value = 2 X pt(t, df = n - 2, lower.tail=FALSE)"
   ]
  },
  {
   "cell_type": "markdown",
   "metadata": {},
   "source": [
    "### Example\n",
    "\n",
    "Suppose that a researcher, using wage data on 250 randomly selected male workers and 280 female\n",
    "workers, estimates the OLS regression and finds the following:\n",
    "\n",
    "$\\hat{Wage}$ = 12.52 + 2.12 * Male (R2 = 0.06, SER = 4.2)\n",
    "       \n",
    "\n",
    "Wage is measured in dollars per hour and Male is a binary variable that is equal to 1 if the person is a\n",
    "male and 0 if the person is a female.\n",
    "The gender wage gender gap is defined as the difference in mean earnings between men and women.\n",
    "\n",
    "t-statistics = 5.89"
   ]
  },
  {
   "cell_type": "code",
   "execution_count": 1,
   "metadata": {},
   "outputs": [
    {
     "data": {
      "text/html": [
       "528"
      ],
      "text/latex": [
       "528"
      ],
      "text/markdown": [
       "528"
      ],
      "text/plain": [
       "[1] 528"
      ]
     },
     "metadata": {},
     "output_type": "display_data"
    }
   ],
   "source": [
    "# Degrees of freedom = total number of samples - 2 (1 for intercept and 1 for coefficient of Male)\n",
    "250 + 280 - 2"
   ]
  },
  {
   "cell_type": "code",
   "execution_count": 2,
   "metadata": {},
   "outputs": [
    {
     "data": {
      "text/html": [
       "6.88037817002793e-09"
      ],
      "text/latex": [
       "6.88037817002793e-09"
      ],
      "text/markdown": [
       "6.88037817002793e-09"
      ],
      "text/plain": [
       "[1] 6.880378e-09"
      ]
     },
     "metadata": {},
     "output_type": "display_data"
    }
   ],
   "source": [
    "pt(5.89, 528, lower.tail=FALSE) * 2"
   ]
  },
  {
   "cell_type": "code",
   "execution_count": null,
   "metadata": {},
   "outputs": [],
   "source": []
  }
 ],
 "metadata": {
  "kernelspec": {
   "display_name": "R",
   "language": "R",
   "name": "ir"
  },
  "language_info": {
   "codemirror_mode": "r",
   "file_extension": ".r",
   "mimetype": "text/x-r-source",
   "name": "R",
   "pygments_lexer": "r",
   "version": "4.0.2"
  }
 },
 "nbformat": 4,
 "nbformat_minor": 4
}
